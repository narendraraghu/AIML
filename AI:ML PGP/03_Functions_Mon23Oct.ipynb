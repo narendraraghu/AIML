{
 "cells": [
  {
   "cell_type": "code",
   "execution_count": 6,
   "id": "5a4e04aa",
   "metadata": {},
   "outputs": [],
   "source": [
    "def count_number_of_occurance(arr, x ):\n",
    "    count = 0\n",
    "    for item in arr:\n",
    "     if item==x:\n",
    "        count+=1\n",
    "    return count    "
   ]
  },
  {
   "cell_type": "code",
   "execution_count": 8,
   "id": "d4418fab",
   "metadata": {},
   "outputs": [
    {
     "name": "stdout",
     "output_type": "stream",
     "text": [
      "3\n"
     ]
    }
   ],
   "source": [
    "arr = [1,2,4,56,7,3,6,7,7,8,1]\n",
    "print(count_number_of_occurance(arr,7 ))"
   ]
  },
  {
   "cell_type": "code",
   "execution_count": 9,
   "id": "b8f86a13",
   "metadata": {},
   "outputs": [
    {
     "name": "stdout",
     "output_type": "stream",
     "text": [
      "count  3\n"
     ]
    }
   ],
   "source": [
    "\n",
    "print(\"count \",count_number_of_occurance(arr,7 ))"
   ]
  },
  {
   "cell_type": "code",
   "execution_count": 1,
   "id": "287905dd",
   "metadata": {},
   "outputs": [
    {
     "name": "stdout",
     "output_type": "stream",
     "text": [
      "Writing prempatra\n"
     ]
    }
   ],
   "source": [
    "%%writefile prempatra\n",
    "Hi Bun how are you doing\n",
    "I miss you a lot here\n",
    "but you dont litsen me"
   ]
  },
  {
   "cell_type": "code",
   "execution_count": 17,
   "id": "ef9cd348",
   "metadata": {},
   "outputs": [
    {
     "data": {
      "text/plain": [
       "'/Users/narendra/Desktop/go learning'"
      ]
     },
     "execution_count": 17,
     "metadata": {},
     "output_type": "execute_result"
    }
   ],
   "source": [
    "pwd"
   ]
  },
  {
   "cell_type": "code",
   "execution_count": 18,
   "id": "c4a36c10",
   "metadata": {},
   "outputs": [],
   "source": [
    "filehandle = open('prempatra')"
   ]
  },
  {
   "cell_type": "code",
   "execution_count": 28,
   "id": "f2322fa1",
   "metadata": {},
   "outputs": [
    {
     "ename": "ValueError",
     "evalue": "I/O operation on closed file.",
     "output_type": "error",
     "traceback": [
      "\u001b[0;31m---------------------------------------------------------------------------\u001b[0m",
      "\u001b[0;31mValueError\u001b[0m                                Traceback (most recent call last)",
      "Cell \u001b[0;32mIn[28], line 1\u001b[0m\n\u001b[0;32m----> 1\u001b[0m filehandle\u001b[38;5;241m.\u001b[39mread()\n",
      "\u001b[0;31mValueError\u001b[0m: I/O operation on closed file."
     ]
    }
   ],
   "source": [
    "filehandle.read()"
   ]
  },
  {
   "cell_type": "code",
   "execution_count": 29,
   "id": "9d69bdc6",
   "metadata": {},
   "outputs": [],
   "source": [
    "with open('prempatra',mode='a') as filehandle:\n",
    "    filehandle.write('I am very happy that i got a gf like you')"
   ]
  },
  {
   "cell_type": "code",
   "execution_count": 30,
   "id": "b6499198",
   "metadata": {},
   "outputs": [
    {
     "name": "stdout",
     "output_type": "stream",
     "text": [
      "Hi Bun how are you doing\n",
      "I miss you a lot here\n",
      "but you dont litsen me\n",
      "I am very happy that i got a gf like youI am very happy that i got a gf like youI am very happy that i got a gf like youI am very happy that i got a gf like youI am very happy that i got a gf like you\n"
     ]
    }
   ],
   "source": [
    "with open('prempatra',mode='r')as filehandle:\n",
    "    print(filehandle.read())"
   ]
  },
  {
   "cell_type": "markdown",
   "id": "ffaf2f23",
   "metadata": {},
   "source": [
    "    # User Input"
   ]
  },
  {
   "cell_type": "code",
   "execution_count": null,
   "id": "554925ca",
   "metadata": {},
   "outputs": [],
   "source": [
    "userInput = input(\"Give me a name \")\n",
    "print(\"My Name is \",userInput)"
   ]
  },
  {
   "cell_type": "code",
   "execution_count": null,
   "id": "dedf469b",
   "metadata": {},
   "outputs": [],
   "source": [
    "x=0\n",
    "while(x<10):\n",
    " x++\n",
    " print(x)"
   ]
  },
  {
   "cell_type": "code",
   "execution_count": null,
   "id": "2281cb60",
   "metadata": {},
   "outputs": [],
   "source": [
    "10"
   ]
  },
  {
   "cell_type": "code",
   "execution_count": null,
   "id": "b9d5e96d",
   "metadata": {},
   "outputs": [],
   "source": []
  },
  {
   "cell_type": "code",
   "execution_count": null,
   "id": "19ee7731",
   "metadata": {},
   "outputs": [],
   "source": []
  }
 ],
 "metadata": {
  "kernelspec": {
   "display_name": "Python 3 (ipykernel)",
   "language": "python",
   "name": "python3"
  },
  "language_info": {
   "codemirror_mode": {
    "name": "ipython",
    "version": 3
   },
   "file_extension": ".py",
   "mimetype": "text/x-python",
   "name": "python",
   "nbconvert_exporter": "python",
   "pygments_lexer": "ipython3",
   "version": "3.11.4"
  }
 },
 "nbformat": 4,
 "nbformat_minor": 5
}
