{
 "cells": [
  {
   "cell_type": "code",
   "execution_count": 21,
   "id": "03fc3de2",
   "metadata": {},
   "outputs": [
    {
     "ename": "KeyboardInterrupt",
     "evalue": "Interrupted by user",
     "output_type": "error",
     "traceback": [
      "\u001b[0;31m---------------------------------------------------------------------------\u001b[0m",
      "\u001b[0;31mKeyboardInterrupt\u001b[0m                         Traceback (most recent call last)",
      "Cell \u001b[0;32mIn[21], line 1\u001b[0m\n\u001b[0;32m----> 1\u001b[0m num \u001b[38;5;241m=\u001b[39m \u001b[38;5;28mint\u001b[39m(\u001b[38;5;28minput\u001b[39m(\u001b[38;5;124m\"\u001b[39m\u001b[38;5;124menter a number\u001b[39m\u001b[38;5;124m\"\u001b[39m))\n\u001b[1;32m      3\u001b[0m \u001b[38;5;28;01mif\u001b[39;00m num \u001b[38;5;241m%\u001b[39m \u001b[38;5;241m2\u001b[39m \u001b[38;5;241m==\u001b[39m \u001b[38;5;241m0\u001b[39m: \n\u001b[1;32m      4\u001b[0m  \u001b[38;5;28;01mif\u001b[39;00m num \u001b[38;5;241m%\u001b[39m \u001b[38;5;241m3\u001b[39m \u001b[38;5;241m==\u001b[39m \u001b[38;5;241m0\u001b[39m: \n",
      "File \u001b[0;32m~/anaconda3/lib/python3.11/site-packages/ipykernel/kernelbase.py:1175\u001b[0m, in \u001b[0;36mKernel.raw_input\u001b[0;34m(self, prompt)\u001b[0m\n\u001b[1;32m   1171\u001b[0m \u001b[38;5;28;01mif\u001b[39;00m \u001b[38;5;129;01mnot\u001b[39;00m \u001b[38;5;28mself\u001b[39m\u001b[38;5;241m.\u001b[39m_allow_stdin:\n\u001b[1;32m   1172\u001b[0m     \u001b[38;5;28;01mraise\u001b[39;00m StdinNotImplementedError(\n\u001b[1;32m   1173\u001b[0m         \u001b[38;5;124m\"\u001b[39m\u001b[38;5;124mraw_input was called, but this frontend does not support input requests.\u001b[39m\u001b[38;5;124m\"\u001b[39m\n\u001b[1;32m   1174\u001b[0m     )\n\u001b[0;32m-> 1175\u001b[0m \u001b[38;5;28;01mreturn\u001b[39;00m \u001b[38;5;28mself\u001b[39m\u001b[38;5;241m.\u001b[39m_input_request(\n\u001b[1;32m   1176\u001b[0m     \u001b[38;5;28mstr\u001b[39m(prompt),\n\u001b[1;32m   1177\u001b[0m     \u001b[38;5;28mself\u001b[39m\u001b[38;5;241m.\u001b[39m_parent_ident[\u001b[38;5;124m\"\u001b[39m\u001b[38;5;124mshell\u001b[39m\u001b[38;5;124m\"\u001b[39m],\n\u001b[1;32m   1178\u001b[0m     \u001b[38;5;28mself\u001b[39m\u001b[38;5;241m.\u001b[39mget_parent(\u001b[38;5;124m\"\u001b[39m\u001b[38;5;124mshell\u001b[39m\u001b[38;5;124m\"\u001b[39m),\n\u001b[1;32m   1179\u001b[0m     password\u001b[38;5;241m=\u001b[39m\u001b[38;5;28;01mFalse\u001b[39;00m,\n\u001b[1;32m   1180\u001b[0m )\n",
      "File \u001b[0;32m~/anaconda3/lib/python3.11/site-packages/ipykernel/kernelbase.py:1217\u001b[0m, in \u001b[0;36mKernel._input_request\u001b[0;34m(self, prompt, ident, parent, password)\u001b[0m\n\u001b[1;32m   1214\u001b[0m             \u001b[38;5;28;01mbreak\u001b[39;00m\n\u001b[1;32m   1215\u001b[0m \u001b[38;5;28;01mexcept\u001b[39;00m \u001b[38;5;167;01mKeyboardInterrupt\u001b[39;00m:\n\u001b[1;32m   1216\u001b[0m     \u001b[38;5;66;03m# re-raise KeyboardInterrupt, to truncate traceback\u001b[39;00m\n\u001b[0;32m-> 1217\u001b[0m     \u001b[38;5;28;01mraise\u001b[39;00m \u001b[38;5;167;01mKeyboardInterrupt\u001b[39;00m(\u001b[38;5;124m\"\u001b[39m\u001b[38;5;124mInterrupted by user\u001b[39m\u001b[38;5;124m\"\u001b[39m) \u001b[38;5;28;01mfrom\u001b[39;00m \u001b[38;5;28;01mNone\u001b[39;00m\n\u001b[1;32m   1218\u001b[0m \u001b[38;5;28;01mexcept\u001b[39;00m \u001b[38;5;167;01mException\u001b[39;00m:\n\u001b[1;32m   1219\u001b[0m     \u001b[38;5;28mself\u001b[39m\u001b[38;5;241m.\u001b[39mlog\u001b[38;5;241m.\u001b[39mwarning(\u001b[38;5;124m\"\u001b[39m\u001b[38;5;124mInvalid Message:\u001b[39m\u001b[38;5;124m\"\u001b[39m, exc_info\u001b[38;5;241m=\u001b[39m\u001b[38;5;28;01mTrue\u001b[39;00m)\n",
      "\u001b[0;31mKeyboardInterrupt\u001b[0m: Interrupted by user"
     ]
    }
   ],
   "source": [
    " num = int(input(\"enter a number\"))\n",
    "    \n",
    "if num % 2 == 0: \n",
    "  if num % 3 == 0: \n",
    "     print (\"Divisible by 2 and 3\") \n",
    "  else:\n",
    "     print (\"Divisible by 2 not by 3\") \n",
    "else:\n",
    "   if num % 3 == 0: \n",
    "    print (\"Divisible by 3 not by 2\") \n",
    "   else: print (\"Not divisible by 2 not by 3\")"
   ]
  },
  {
   "cell_type": "markdown",
   "id": "cfd4eef6",
   "metadata": {},
   "source": [
    "# print 0 to 10"
   ]
  },
  {
   "cell_type": "code",
   "execution_count": 2,
   "id": "3457078a",
   "metadata": {},
   "outputs": [
    {
     "name": "stdout",
     "output_type": "stream",
     "text": [
      "1\n",
      "2\n",
      "3\n",
      "4\n",
      "5\n",
      "6\n",
      "7\n",
      "8\n",
      "9\n",
      "10\n"
     ]
    }
   ],
   "source": [
    "count = 0\n",
    "\n",
    "while(count<10):\n",
    "   count = count+1\n",
    "   print(count)"
   ]
  },
  {
   "cell_type": "markdown",
   "id": "9f847f08",
   "metadata": {},
   "source": [
    "## Dictionary"
   ]
  },
  {
   "cell_type": "code",
   "execution_count": 10,
   "id": "66c0032a",
   "metadata": {},
   "outputs": [
    {
     "name": "stdout",
     "output_type": "stream",
     "text": [
      "Enter a new name: a\n",
      "Enter your age: 1\n",
      "Where are you? q\n",
      "The new user is a aged 1 from q.\n"
     ]
    }
   ],
   "source": [
    "MyDict = {'Name': 'Waldo', 'Age': 25, 'Sex': 'Male', 'Location': 'Italy'}\n",
    "          \n",
    "name = str(input(\"Enter a new name: \")) \n",
    "age = int(input(\"Enter your age: \")) \n",
    "location = str(input(\"Where are you? \")) \n",
    "\n",
    "MyDict['Name'] = name\n",
    "MyDict['Age'] = age\n",
    "MyDict['Location'] = location \n",
    "print (\"The new user is\", MyDict['Name'], \"aged\", MyDict['Age'], \"from\", MyDict['Location']+\".\")"
   ]
  },
  {
   "cell_type": "code",
   "execution_count": 11,
   "id": "14d2088e",
   "metadata": {},
   "outputs": [
    {
     "name": "stdout",
     "output_type": "stream",
     "text": [
      "Enter a new name: Narendra\n",
      "Enter your age: 33\n",
      "Where are you? blr\n",
      "The new user is Narendra aged 33 from blr.\n"
     ]
    }
   ],
   "source": [
    "def add_dictionary(MyDict):\n",
    "    name = str(input(\"Enter a new name: \")) \n",
    "    age = int(input(\"Enter your age: \")) \n",
    "    location = str(input(\"Where are you? \")) \n",
    "    \n",
    "    MyDict['Name'] = name\n",
    "    MyDict['Age'] = age\n",
    "    MyDict['Location'] = location \n",
    "    return MyDict\n",
    "\n",
    "MyDict = {'Name': 'Waldo', 'Age': 25, 'Sex': 'Male', 'Location': 'Italy'}       \n",
    "MyDict = add_dictionary(MyDict)\n",
    "print (\"The new user is\", MyDict['Name'], \"aged\", MyDict['Age'], \"from\", MyDict['Location']+\".\")"
   ]
  },
  {
   "cell_type": "markdown",
   "id": "ecd5dbb0",
   "metadata": {},
   "source": [
    "# Exception"
   ]
  },
  {
   "cell_type": "code",
   "execution_count": 1,
   "id": "79e53db1",
   "metadata": {},
   "outputs": [
    {
     "name": "stdout",
     "output_type": "stream",
     "text": [
      "enter your age11\n",
      "11\n"
     ]
    }
   ],
   "source": [
    "while True:\n",
    " try:\n",
    "    age = int(input('enter your age'))\n",
    "    break\n",
    "    \n",
    " except ValueError:\n",
    "    print(\"Provide the correct age choti\")\n",
    "print(age)"
   ]
  },
  {
   "cell_type": "markdown",
   "id": "21252d66",
   "metadata": {},
   "source": [
    "# #Assersion\n"
   ]
  },
  {
   "cell_type": "code",
   "execution_count": 10,
   "id": "a102b5b4",
   "metadata": {},
   "outputs": [
    {
     "name": "stdout",
     "output_type": "stream",
     "text": [
      "Normal\n"
     ]
    }
   ],
   "source": [
    "def checkTemprature(temp):\n",
    "    assert not(temp<=0),\"Too Cold\"\n",
    "    assert not(temp>=50),\"Too Hot\"\n",
    "\n",
    "    return 'Normal'\n",
    "    \n",
    "print(checkTemprature(10))    "
   ]
  },
  {
   "attachments": {},
   "cell_type": "markdown",
   "id": "1f9bc711",
   "metadata": {},
   "source": [
    "# Unit Test"
   ]
  },
  {
   "cell_type": "code",
   "execution_count": null,
   "id": "cebf6c99",
   "metadata": {},
   "outputs": [],
   "source": [
    "import unittest\n",
    "\n",
    "def counter(x):\n",
    "    return x+1\n",
    "\n",
    "class MyTst\n",
    "\n",
    "unittest."
   ]
  }
 ],
 "metadata": {
  "kernelspec": {
   "display_name": "Python 3 (ipykernel)",
   "language": "python",
   "name": "python3"
  },
  "language_info": {
   "codemirror_mode": {
    "name": "ipython",
    "version": 3
   },
   "file_extension": ".py",
   "mimetype": "text/x-python",
   "name": "python",
   "nbconvert_exporter": "python",
   "pygments_lexer": "ipython3",
   "version": "3.11.4"
  }
 },
 "nbformat": 4,
 "nbformat_minor": 5
}
