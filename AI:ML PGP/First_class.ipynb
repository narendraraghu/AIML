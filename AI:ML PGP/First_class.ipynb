{
 "cells": [
  {
   "cell_type": "raw",
   "id": "0cf8f8d6-88cd-4db5-bd7e-782d3870afd1",
   "metadata": {},
   "source": [
    "This is my first class in pyhton"
   ]
  },
  {
   "cell_type": "code",
   "execution_count": 1,
   "id": "eb33f215-d5e4-49ab-a3f9-0446424b0fc2",
   "metadata": {
    "tags": []
   },
   "outputs": [
    {
     "name": "stdout",
     "output_type": "stream",
     "text": [
      "hello\n"
     ]
    }
   ],
   "source": [
    "print ('hello')\n"
   ]
  },
  {
   "cell_type": "code",
   "execution_count": 3,
   "id": "52b2803e-37f9-4e3a-bfde-bbc30d717744",
   "metadata": {
    "tags": []
   },
   "outputs": [],
   "source": [
    "a = 'naren'"
   ]
  },
  {
   "cell_type": "code",
   "execution_count": 4,
   "id": "99538d4b-456f-4700-9d86-3008d61e9362",
   "metadata": {
    "tags": []
   },
   "outputs": [
    {
     "data": {
      "text/plain": [
       "'naren'"
      ]
     },
     "execution_count": 4,
     "metadata": {},
     "output_type": "execute_result"
    }
   ],
   "source": [
    "a"
   ]
  },
  {
   "cell_type": "code",
   "execution_count": 17,
   "id": "de5edb02-1f86-4660-8fe5-c5e3246e8819",
   "metadata": {
    "tags": []
   },
   "outputs": [],
   "source": [
    "a=b=c ==1"
   ]
  },
  {
   "cell_type": "code",
   "execution_count": 18,
   "id": "5c12e4f4-c0bb-4cfa-b5e1-d50ba04fa7a2",
   "metadata": {
    "tags": []
   },
   "outputs": [
    {
     "data": {
      "text/plain": [
       "0"
      ]
     },
     "execution_count": 18,
     "metadata": {},
     "output_type": "execute_result"
    }
   ],
   "source": [
    "c"
   ]
  },
  {
   "cell_type": "code",
   "execution_count": 19,
   "id": "7da10ab6-fc3e-4a7b-bdd2-f27c38be015c",
   "metadata": {
    "tags": []
   },
   "outputs": [
    {
     "data": {
      "text/plain": [
       "False"
      ]
     },
     "execution_count": 19,
     "metadata": {},
     "output_type": "execute_result"
    }
   ],
   "source": [
    "a"
   ]
  },
  {
   "cell_type": "markdown",
   "id": "f16dcb01-5729-4cf1-b085-7634ca9fae44",
   "metadata": {},
   "source": []
  }
 ],
 "metadata": {
  "kernelspec": {
   "display_name": "Python 3 (ipykernel)",
   "language": "python",
   "name": "python3"
  },
  "language_info": {
   "codemirror_mode": {
    "name": "ipython",
    "version": 3
   },
   "file_extension": ".py",
   "mimetype": "text/x-python",
   "name": "python",
   "nbconvert_exporter": "python",
   "pygments_lexer": "ipython3",
   "version": "3.11.4"
  }
 },
 "nbformat": 4,
 "nbformat_minor": 5
}
