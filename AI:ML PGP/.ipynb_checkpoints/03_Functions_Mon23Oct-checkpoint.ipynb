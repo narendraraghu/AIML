{
 "cells": [
  {
   "cell_type": "code",
   "execution_count": 6,
   "id": "c969b4d0",
   "metadata": {},
   "outputs": [],
   "source": [
    "def count_number_of_occurance(arr, x ):\n",
    "    count = 0\n",
    "    for item in arr:\n",
    "     if item==x:\n",
    "        count+=1\n",
    "    return count    "
   ]
  },
  {
   "cell_type": "code",
   "execution_count": 8,
   "id": "90fb3e44",
   "metadata": {},
   "outputs": [
    {
     "name": "stdout",
     "output_type": "stream",
     "text": [
      "3\n"
     ]
    }
   ],
   "source": [
    "arr = [1,2,4,56,7,3,6,7,7,8,1]\n",
    "print(count_number_of_occurance(arr,7 ))"
   ]
  },
  {
   "cell_type": "code",
   "execution_count": null,
   "id": "dcb9bacd",
   "metadata": {},
   "outputs": [],
   "source": []
  }
 ],
 "metadata": {
  "kernelspec": {
   "display_name": "Python 3 (ipykernel)",
   "language": "python",
   "name": "python3"
  },
  "language_info": {
   "codemirror_mode": {
    "name": "ipython",
    "version": 3
   },
   "file_extension": ".py",
   "mimetype": "text/x-python",
   "name": "python",
   "nbconvert_exporter": "python",
   "pygments_lexer": "ipython3",
   "version": "3.11.4"
  }
 },
 "nbformat": 4,
 "nbformat_minor": 5
}
